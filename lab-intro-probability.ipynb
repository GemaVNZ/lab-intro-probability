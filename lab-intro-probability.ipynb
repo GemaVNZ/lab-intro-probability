{
 "cells": [
  {
   "cell_type": "markdown",
   "metadata": {},
   "source": [
    "# Lab | Intro to Probability"
   ]
  },
  {
   "cell_type": "markdown",
   "metadata": {},
   "source": [
    "**Objective**\n",
    "\n",
    "Welcome to this Intro to Probability lab, where we explore decision-making scenarios through the lens of probability and strategic analysis. In the business world, making informed decisions is crucial, especially when faced with uncertainties. This lab focuses on scenarios where probabilistic outcomes play a significant role in shaping strategies and outcomes. Students will engage in exercises that require assessing and choosing optimal paths based on data-driven insights. The goal is to enhance your skills by applying probability concepts to solve real-world problems."
   ]
  },
  {
   "cell_type": "markdown",
   "metadata": {},
   "source": [
    "**Challenge 1**"
   ]
  },
  {
   "cell_type": "markdown",
   "metadata": {},
   "source": [
    "#### Ironhack Airlines \n",
    "\n",
    "Often Airlines sell more tickets than they have seats available, this is called overbooking. Consider the following:\n",
    "- A plane has 450 seats. \n",
    "- Based on historical data we conclude that each individual passenger has a 3% chance of missing it's flight. \n",
    "\n",
    "If the Ironhack Airlines routinely sells 460 tickets, what is the chance that they have a seats for all passenger?"
   ]
  },
  {
   "cell_type": "code",
   "execution_count": 41,
   "metadata": {},
   "outputs": [],
   "source": [
    "from scipy.stats import binom"
   ]
  },
  {
   "cell_type": "code",
   "execution_count": 42,
   "metadata": {},
   "outputs": [
    {
     "name": "stdout",
     "output_type": "stream",
     "text": [
      "La probabilidad de perder un ticket es de: 0.8845\n"
     ]
    }
   ],
   "source": [
    "#code here\n",
    "n_tickets = 460 \n",
    "p_show = 0.97 \n",
    "seats_available = 450\n",
    "\n",
    "probabilidad_perdida = binom.cdf(seats_available, n_tickets, p_show)\n",
    "print(f\"La probabilidad de perder un ticket es de: {probabilidad_perdida:.4f}\")"
   ]
  },
  {
   "cell_type": "markdown",
   "metadata": {},
   "source": [
    "**Challenge 2**"
   ]
  },
  {
   "cell_type": "markdown",
   "metadata": {},
   "source": [
    "#### Ironhack Call Center "
   ]
  },
  {
   "cell_type": "markdown",
   "metadata": {},
   "source": [
    "Suppose a customer service representative at a call center is handling customer complaints. Consider the following:\n",
    "- The probability of successfully resolving a customer complaint on the first attempt is 0.3. \n",
    "\n",
    "\n",
    "What is the probability that the representative needs to make at least three attempts before successfully resolving a customer complaint?"
   ]
  },
  {
   "cell_type": "code",
   "execution_count": 10,
   "metadata": {},
   "outputs": [],
   "source": [
    "from scipy.stats import geom"
   ]
  },
  {
   "cell_type": "code",
   "execution_count": 11,
   "metadata": {},
   "outputs": [
    {
     "name": "stdout",
     "output_type": "stream",
     "text": [
      "La probabilidad de tener al menos 3 exitos es de: 0.4900\n"
     ]
    }
   ],
   "source": [
    "#code here\n",
    "p_success = 0.3\n",
    "p_failure = 0.7\n",
    "\n",
    "prob_at_least_3 = 1 - geom.cdf(2, p_success)\n",
    "print(f\"La probabilidad de tener al menos 3 exitos es de: {prob_at_least_3:.4f}\")"
   ]
  },
  {
   "cell_type": "markdown",
   "metadata": {},
   "source": [
    "**Challenge 3**"
   ]
  },
  {
   "cell_type": "markdown",
   "metadata": {},
   "source": [
    "#### Ironhack Website"
   ]
  },
  {
   "cell_type": "markdown",
   "metadata": {},
   "source": [
    "Consider a scenario related to Ironhack website traffic. Where:\n",
    "- our website takes on average 500 visits per hour.\n",
    "- the website's server is designed to handle up to 550 vists per hour.\n",
    "\n",
    "\n",
    "What is the probability of the website server being overwhelmed?"
   ]
  },
  {
   "cell_type": "code",
   "execution_count": 18,
   "metadata": {},
   "outputs": [],
   "source": [
    "from scipy.stats import poisson"
   ]
  },
  {
   "cell_type": "code",
   "execution_count": 20,
   "metadata": {},
   "outputs": [
    {
     "name": "stdout",
     "output_type": "stream",
     "text": [
      "La probabilidad de ser sobre cargado es de: 0.0129\n",
      "La probabilidad de no estar sobre cargado es de: 0.9871\n"
     ]
    }
   ],
   "source": [
    "#code here\n",
    "lambda_rate = 500\n",
    "server_limit = 550\n",
    "hours_in_day = 24\n",
    "\n",
    "# Probabilidad de sobrecargar el servidor en un dia \n",
    "prob_overwhelmed_one_hour = 1 - poisson.cdf(server_limit, lambda_rate)\n",
    "print(f\"La probabilidad de ser sobre cargado es de: {prob_overwhelmed_one_hour:.4f}\")\n",
    "\n",
    "# Probabilidad de no estar sobrecargado en 1 hora \n",
    "prob_not_overwhelmed_one_hour = 1 - prob_overwhelmed_one_hour\n",
    "print(f\"La probabilidad de no estar sobre cargado es de: {prob_not_overwhelmed_one_hour:.4f}\")\n"
   ]
  },
  {
   "cell_type": "markdown",
   "metadata": {},
   "source": [
    "What is the probability of being overwhelmed at some point during a day? (consider 24hours)"
   ]
  },
  {
   "cell_type": "code",
   "execution_count": null,
   "metadata": {},
   "outputs": [
    {
     "name": "stdout",
     "output_type": "stream",
     "text": [
      "La probabilidad de que el servidor sea sobrecargado en una hora es: 0.0129\n",
      "La probabilidad de que el servidor sea sobrecargado en algún momento del día es: 0.2677\n"
     ]
    }
   ],
   "source": [
    "# Probabilidad de estar sobrecargado en algún momento \n",
    "prob_overwhelmed_one_day = 1 - prob_not_overwhelmed_one_hour ** hours_in_day\n",
    "\n",
    "print(f\"La probabilidad de que el servidor sea sobrecargado en algún momento del día es: {prob_overwhelmed_one_day:.4f}\")\n"
   ]
  },
  {
   "cell_type": "code",
   "execution_count": 24,
   "metadata": {},
   "outputs": [],
   "source": [
    "import math as m"
   ]
  },
  {
   "cell_type": "markdown",
   "metadata": {},
   "source": [
    "**Challenge 4**"
   ]
  },
  {
   "cell_type": "markdown",
   "metadata": {},
   "source": [
    "#### Ironhack Helpdesk"
   ]
  },
  {
   "cell_type": "markdown",
   "metadata": {},
   "source": [
    "Consider a scenario related to the time between arrivals of customers at a service desk.\n",
    "\n",
    "On average, a customers arrives every 10minutes.\n",
    "\n",
    "What is the probability that the next customer will arrive within the next 5 minutes?"
   ]
  },
  {
   "cell_type": "code",
   "execution_count": 25,
   "metadata": {},
   "outputs": [
    {
     "name": "stdout",
     "output_type": "stream",
     "text": [
      "La probabilidad de que el próximo cliente llegue en los próximos 5 minutos es: 0.3935\n"
     ]
    }
   ],
   "source": [
    "# Probabilidad de que llegue un pasajero en los próximos 5 minutos \n",
    "\n",
    "mean_time = 10  #Tiempo promedio entre clientes (en minutos)\n",
    "rate = 1/mean_time #Tasa de la distribución exponencial \n",
    "time_t = 5 #Tiempo objetivo \n",
    "\n",
    "prob_within_5 = 1 - m.exp(-rate * time_t)\n",
    "\n",
    "print(f\"La probabilidad de que el próximo cliente llegue en los próximos 5 minutos es: {prob_within_5:.4f}\")"
   ]
  },
  {
   "cell_type": "markdown",
   "metadata": {},
   "source": [
    "If there is no customer for 15minutes, employees can that a 5minutes break.\n",
    "\n",
    "What is the probability an employee taking a break?"
   ]
  },
  {
   "cell_type": "code",
   "execution_count": 29,
   "metadata": {},
   "outputs": [
    {
     "name": "stdout",
     "output_type": "stream",
     "text": [
      "La probabilidad de que un empleado pueda tomar un descanso de 5 minutos es: 0.2231\n"
     ]
    }
   ],
   "source": [
    "# Tiempo objetivo para que no haya clientes (en minutos)\n",
    "time_no_customers = 15\n",
    "\n",
    "# Probabilidad de que no llegue ningún cliente en 15 minutos\n",
    "prob_no_customer_15 = m.exp(-rate * time_no_customers)\n",
    "\n",
    "print(f\"La probabilidad de que un empleado pueda tomar un descanso de 5 minutos es: {prob_no_customer_15:.4f}\")"
   ]
  },
  {
   "cell_type": "code",
   "execution_count": 33,
   "metadata": {},
   "outputs": [],
   "source": [
    "from scipy.stats import norm"
   ]
  },
  {
   "cell_type": "markdown",
   "metadata": {},
   "source": [
    "**Challenge 5**"
   ]
  },
  {
   "cell_type": "markdown",
   "metadata": {},
   "source": [
    "The weights of a certain species of birds follow a normal distribution with a mean weight of 150 grams and a standard deviation of 10 grams. \n",
    "\n",
    "- If we randomly select a bird, what is the probability that its weight is between 140 and 160 grams?"
   ]
  },
  {
   "cell_type": "code",
   "execution_count": 34,
   "metadata": {},
   "outputs": [
    {
     "name": "stdout",
     "output_type": "stream",
     "text": [
      "La probabilidad de que el peso del ave esté entre 140 y 160 gramos es: 0.6827\n"
     ]
    }
   ],
   "source": [
    "# Probabilidad de que llegue un pasajero en los próximos 5 minutos\n",
    "mean_weight = 150 \n",
    "std_dev_weight = 10 \n",
    "\n",
    "lower_limit = 140\n",
    "upper_limit = 160\n",
    "\n",
    "prob_lower = norm.cdf(lower_limit, mean_weight, std_dev_weight)\n",
    "prob_upper = norm.cdf(upper_limit, mean_weight, std_dev_weight)\n",
    "\n",
    "# Probabilidad de que el peso esté entre 140 y 160 gramos\n",
    "prob_between = prob_upper - prob_lower\n",
    "\n",
    "print(f\"La probabilidad de que el peso del ave esté entre 140 y 160 gramos es: {prob_between:.4f}\")"
   ]
  },
  {
   "cell_type": "code",
   "execution_count": 37,
   "metadata": {},
   "outputs": [],
   "source": [
    "from scipy.stats import expon"
   ]
  },
  {
   "cell_type": "markdown",
   "metadata": {},
   "source": [
    "**Challenge 6**"
   ]
  },
  {
   "cell_type": "markdown",
   "metadata": {},
   "source": [
    "If the lifetime (in hours) of a certain electronic component follows an exponential distribution with a mean lifetime of 50 hours, what is the probability that the component fails within the first 30 hours?"
   ]
  },
  {
   "cell_type": "code",
   "execution_count": 39,
   "metadata": {},
   "outputs": [
    {
     "name": "stdout",
     "output_type": "stream",
     "text": [
      "La probabilidad de que el componente falle en las primeras 30 horas es: 0.4512\n"
     ]
    }
   ],
   "source": [
    "# Parámetros de la distribución exponencial\n",
    "mean_lifetime = 50  # Media de vida útil (en horas)\n",
    "rate = 1 / mean_lifetime  # Tasa lambda\n",
    "time_t = 30  # Tiempo objetivo (en horas)\n",
    "\n",
    "# Probabilidad acumulativa de fallo antes de 30 horas\n",
    "prob_fail_30 = expon.cdf(time_t, scale=1/rate)\n",
    "\n",
    "print(f\"La probabilidad de que el componente falle en las primeras 30 horas es: {prob_fail_30:.4f}\")"
   ]
  }
 ],
 "metadata": {
  "kernelspec": {
   "display_name": "base",
   "language": "python",
   "name": "python3"
  },
  "language_info": {
   "codemirror_mode": {
    "name": "ipython",
    "version": 3
   },
   "file_extension": ".py",
   "mimetype": "text/x-python",
   "name": "python",
   "nbconvert_exporter": "python",
   "pygments_lexer": "ipython3",
   "version": "3.12.4"
  }
 },
 "nbformat": 4,
 "nbformat_minor": 2
}
